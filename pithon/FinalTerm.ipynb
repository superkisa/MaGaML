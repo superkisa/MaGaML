{
 "cells": [
  {
   "cell_type": "markdown",
   "metadata": {},
   "source": [
    "Task 1."
   ]
  },
  {
   "cell_type": "code",
   "execution_count": 5,
   "metadata": {},
   "outputs": [
    {
     "name": "stdout",
     "output_type": "stream",
     "text": [
      "1, 2, Fizz, 4, Buzz, Fizz, 7, 8, Fizz, Buzz, 11, Fizz, 13, 14, Fizz Buzz\n",
      "1, 2, Fizz, 4, Buzz, Fizz, 7, 8, Fizz, Buzz, 11, Fizz, 13, 14, Fizz Buzz, 16, 17, Fizz, 19, Buzz, Fizz, 22, 23, Fizz, Buzz, 26, Fizz, 28, 29, Fizz Buzz\n"
     ]
    }
   ],
   "source": [
    "def task1(N):\n",
    "    a = ''\n",
    "    for i in range(1, N + 1):\n",
    "        if i % 15 == 0:\n",
    "            a += 'Fizz Buzz, '\n",
    "        elif i % 3 == 0:\n",
    "            a += 'Fizz, '\n",
    "        elif i % 5 == 0:\n",
    "            a += 'Buzz, '\n",
    "        else:\n",
    "            a = a + str(i) + ', '\n",
    "    print(a[:-2])\n",
    "\n",
    "task1(int(input()))\n"
   ]
  },
  {
   "cell_type": "markdown",
   "metadata": {},
   "source": [
    "Task B."
   ]
  },
  {
   "cell_type": "code",
   "execution_count": 10,
   "metadata": {},
   "outputs": [
    {
     "name": "stdout",
     "output_type": "stream",
     "text": [
      "   _~_       _~_       _~_   \n",
      "  (o o)     (o o)     (o o)  \n",
      " /  V  \\   /  V  \\   /  V  \\ \n",
      "/(  _  )\\ /(  _  )\\ /(  _  )\\\n",
      "  ^^ ^^     ^^ ^^     ^^ ^^  \n"
     ]
    }
   ],
   "source": [
    "n = int(input())\n",
    "\n",
    "pengo = \"\"\"   _~_   \n",
    "  (o o)  \n",
    " /  V  \\ \n",
    "/(  _  )\\\\\n",
    "  ^^ ^^  \n",
    "\"\"\"\n",
    "\n",
    "pengos_n = [pengo] * n\n",
    "for lines in zip(*map(str.splitlines, pengos_n)):\n",
    "    print(\" \".join(lines))"
   ]
  },
  {
   "cell_type": "code",
   "execution_count": 38,
   "metadata": {},
   "outputs": [
    {
     "data": {
      "text/plain": [
       "1"
      ]
     },
     "execution_count": 38,
     "metadata": {},
     "output_type": "execute_result"
    }
   ],
   "source": [
    "from functools import lru_cache\n",
    "\n",
    "\n",
    "@lru_cache(maxsize=None)\n",
    "def is_prime(n: int) -> bool:\n",
    "    if n <= 3:\n",
    "        return n > 1\n",
    "    if n % 2 == 0 or n % 3 == 0:\n",
    "        return False\n",
    "    for i in range(5, int(n**0.5) + 1, 6):\n",
    "        if n % i == 0 or n % (i + 2) == 0:\n",
    "            return False\n",
    "    return True\n",
    "\n",
    "\n",
    "def nth_prime(n: int) -> int:\n",
    "    i = 2\n",
    "    while (n > 0):\n",
    "        if (is_prime(i)):\n",
    "            n -= 1\n",
    "        i += 1\n",
    "    i -= 1\n",
    "    return i\n",
    "\n",
    "\n",
    "nth_prime(int(input()))\n"
   ]
  },
  {
   "cell_type": "markdown",
   "metadata": {},
   "source": [
    "Task C."
   ]
  },
  {
   "cell_type": "code",
   "execution_count": 32,
   "metadata": {},
   "outputs": [
    {
     "name": "stdout",
     "output_type": "stream",
     "text": [
      "[('a', 'a'), ('d', 'd'), ('f', None), ('g', None), ('h', None), ('s', 's')]\n"
     ]
    }
   ],
   "source": [
    "def create_dict(keys, values):\n",
    "    len_keys = len(keys)\n",
    "    len_val = len(values)\n",
    "    if len_keys > len_val:\n",
    "        values += [None] * (len_keys - len_val)\n",
    "    return dict(zip(tuple(keys), tuple(values)))\n",
    "\n",
    "\n",
    "keys = list(input())\n",
    "values = list(input())\n",
    "\n",
    "print(list(sorted(create_dict(keys, values).items())))"
   ]
  },
  {
   "cell_type": "markdown",
   "metadata": {},
   "source": [
    "Task D."
   ]
  },
  {
   "cell_type": "code",
   "execution_count": null,
   "metadata": {},
   "outputs": [],
   "source": [
    "password = input()\n",
    "\n",
    "checks = (\n",
    "    len(password) < 8,\n",
    "    len(set(password))< 4,\n",
    "    password.islower() or password.isupper(),\n",
    "    'anna' in password.lower(),\n",
    "    not any(i.isdigit() for i in password),\n",
    "    not any(i.isalpha() for i in password),\n",
    ")\n",
    "\n",
    "print('weak') if any(checks) else print('strong')"
   ]
  },
  {
   "cell_type": "markdown",
   "metadata": {},
   "source": [
    "# Task H."
   ]
  },
  {
   "cell_type": "code",
   "execution_count": 23,
   "metadata": {},
   "outputs": [],
   "source": [
    "class ExtendedList(list):\n",
    "    @property\n",
    "    def R(self):\n",
    "        return self[::-1]\n",
    "    \n",
    "    @property\n",
    "    def F(self):\n",
    "        return self[0]\n",
    "    \n",
    "    @F.setter\n",
    "    def F(self, new_first):\n",
    "        self[0] = new_first\n",
    "\n",
    "    @property\n",
    "    def L(self):\n",
    "        return self[-1]\n",
    "    \n",
    "    @L.setter\n",
    "    def L(self, new_last):\n",
    "        self[-1] = new_last\n",
    "    \n",
    "    @property\n",
    "    def S(self):\n",
    "        return len(self)\n",
    "    \n",
    "    @S.setter\n",
    "    def S(self, new_size):\n",
    "        if new_size > self.S:\n",
    "            self += [None] * (new_size - self.S)\n",
    "        else:\n",
    "            del self[new_size:]\n",
    "\n"
   ]
  },
  {
   "cell_type": "code",
   "execution_count": 26,
   "metadata": {},
   "outputs": [
    {
     "data": {
      "text/plain": [
       "['1', '2', '3', None]"
      ]
     },
     "execution_count": 26,
     "metadata": {},
     "output_type": "execute_result"
    }
   ],
   "source": [
    "a = ExtendedList('123')\n",
    "a.S = 4\n",
    "a"
   ]
  },
  {
   "cell_type": "code",
   "execution_count": 27,
   "metadata": {},
   "outputs": [
    {
     "name": "stdout",
     "output_type": "stream",
     "text": [
      "1 1 1 2 1 1 3 3 1 1 4 6 4 1 1 5 10 10 5 1 1 6 15 20 15 6 1 1 7 21 35 35 21 7 1 1 8 28 56 70 56 28 8 1 1 9 36 84 126 126 "
     ]
    }
   ],
   "source": [
    "def pascal_triangle():\n",
    "    trow = [1]\n",
    "    y = [0]\n",
    "    n = 0\n",
    "    while True:\n",
    "        trow = [left + right for left, right in zip(trow + y, y + trow)]\n",
    "        n += 1\n",
    "        for number in trow:\n",
    "            yield number\n",
    "\n",
    "\n",
    "# for i, number in enumerate(pascal_triangle()):\n",
    "#     print(number, end=\" \")\n",
    "#     if i > 50:\n",
    "#         break\n",
    "a = pascal_triangle()   \n",
    "for _ in range(50):\n",
    "    print(next(a), end=' ')\n"
   ]
  },
  {
   "cell_type": "code",
   "execution_count": null,
   "metadata": {},
   "outputs": [],
   "source": []
  }
 ],
 "metadata": {
  "kernelspec": {
   "display_name": "Python 3.10.8 64-bit",
   "language": "python",
   "name": "python3"
  },
  "language_info": {
   "codemirror_mode": {
    "name": "ipython",
    "version": 3
   },
   "file_extension": ".py",
   "mimetype": "text/x-python",
   "name": "python",
   "nbconvert_exporter": "python",
   "pygments_lexer": "ipython3",
   "version": "3.10.8"
  },
  "orig_nbformat": 4,
  "vscode": {
   "interpreter": {
    "hash": "e79e11cda8210dbddabee3dde7385684a5923be56fbe0a0c3b18e427b1efe811"
   }
  }
 },
 "nbformat": 4,
 "nbformat_minor": 2
}
