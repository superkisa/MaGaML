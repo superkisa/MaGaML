{
  "nbformat": 4,
  "nbformat_minor": 0,
  "metadata": {
    "colab": {
      "provenance": [],
      "collapsed_sections": [],
      "include_colab_link": true
    },
    "kernelspec": {
      "name": "python3",
      "display_name": "Python 3"
    },
    "language_info": {
      "name": "python"
    }
  },
  "cells": [
    {
      "cell_type": "markdown",
      "metadata": {
        "id": "view-in-github",
        "colab_type": "text"
      },
      "source": [
        "<a href=\"https://colab.research.google.com/github/superkisa/MaGaML/blob/main/MathRefresher/sem_Colors.ipynb\" target=\"_parent\"><img src=\"https://colab.research.google.com/assets/colab-badge.svg\" alt=\"Open In Colab\"/></a>"
      ]
    },
    {
      "cell_type": "markdown",
      "metadata": {
        "id": "HUFB3BSzI1xF"
      },
      "source": [
        "# **Colors**\n",
        "\n",
        "Colors are often represented in computers as vectors with three dimensions:  *Red*, *Green*, and *Blue* (RGB). In other words, a color is expressed as an RGB triplet $(r,g,b)$, each component of which can vary from zero to a defined maximum value:\n",
        "\n",
        "![rgb slider](https://upload.wikimedia.org/wikipedia/commons/1/12/RGB_sliders.svg)\n",
        "\n",
        "If all the components are at zero the result is black. If, by contrast, all are at maximum, the result is the brightest representable white.\n",
        "\n",
        "\n",
        "In this notebook, you will practice basic vector operations with color vectors from an [xkcd color survey](https://blog.xkcd.com/2010/05/03/color-survey-results/)."
      ]
    },
    {
      "cell_type": "markdown",
      "metadata": {
        "id": "Y05SfusrDAMx"
      },
      "source": [
        "## **Loading the data**\n",
        "\n",
        "First, we'll load the original JSON-file into a Python dictionary."
      ]
    },
    {
      "cell_type": "code",
      "metadata": {
        "id": "Tn2Eji-FFg_f"
      },
      "source": [
        "import requests, json\n",
        "\n",
        "url = 'https://raw.githubusercontent.com/evgeniyako-edu/corpora/master/data/colors/xkcd.json'\n",
        "response = requests.get(url)\n",
        "\n",
        "raw_data = json.loads(response.text)"
      ],
      "execution_count": 1,
      "outputs": []
    },
    {
      "cell_type": "markdown",
      "metadata": {
        "id": "s8b93xF0ILBB"
      },
      "source": [
        "Take a look at the content of $\\texttt{raw_data}$. "
      ]
    },
    {
      "cell_type": "code",
      "metadata": {
        "id": "4skNS_WFTtoT"
      },
      "source": [
        "# Your code here\n",
        "# pd.json_normalize(raw_data['colors'])"
      ],
      "execution_count": null,
      "outputs": []
    },
    {
      "cell_type": "markdown",
      "metadata": {
        "id": "zEi4g9-hJIQu"
      },
      "source": [
        "You can notice that the original format is not very convenient to use. Let's convert hex color values into RGB-triplets and create a new dictionary {$\\texttt{\"color_name\": [r, g, b]}$}.\n",
        "\n",
        "Run the cells below to do so."
      ]
    },
    {
      "cell_type": "code",
      "metadata": {
        "id": "sSFBEAKVGyxs"
      },
      "source": [
        "def hex_to_rgb(color_hex):\n",
        "    color_hex = color_hex.lstrip(\"#\")\n",
        "    return [int(color_hex[:2], 16), int(color_hex[2:4], 16), int(color_hex[4:6], 16)]"
      ],
      "execution_count": null,
      "outputs": []
    },
    {
      "cell_type": "code",
      "metadata": {
        "id": "-8CB2YSzJURY"
      },
      "source": [
        "colors = dict()\n",
        "\n",
        "for item in raw_data['colors']:\n",
        "    colors[item['color']] = hex_to_rgb(item['hex'])"
      ],
      "execution_count": null,
      "outputs": []
    },
    {
      "cell_type": "markdown",
      "metadata": {
        "id": "9W5DwCR-JU2J"
      },
      "source": [
        "Take a look at the content of the $\\texttt{colors}$ dictionary now."
      ]
    },
    {
      "cell_type": "code",
      "metadata": {
        "id": "9SnjOtyZJZ2f"
      },
      "source": [
        "# Your code here"
      ],
      "execution_count": null,
      "outputs": []
    },
    {
      "cell_type": "markdown",
      "metadata": {
        "id": "Owd-nIDSDR2g"
      },
      "source": [
        "## **Plotting the data**\n",
        "\n",
        "To have a better idea of which colors are present in our dataset, let's plot them as points in a 3D space (with Red, Green and Blue as axes).\n",
        "\n",
        "Assign each point a color that it represents.\n",
        "\n",
        "Hint 1: [$\\texttt{scatter3D}$](https://matplotlib.org/stable/gallery/mplot3d/scatter3d.html) function from the $\\texttt{matplotlib}$ library might be useful for plotting points in 3D.\n",
        "\n",
        "Hint 2: In $\\texttt{matplotlib}$, you can specify color by giving it's name from the xkcd survey with an $\\texttt{'xkcd:'}$ prefix. See [documentation](https://matplotlib.org/3.1.0/tutorials/colors/colors.html) for more info."
      ]
    },
    {
      "cell_type": "code",
      "metadata": {
        "id": "SNWxMcQLk0sP"
      },
      "source": [
        "%matplotlib inline\n",
        "import matplotlib.pyplot as plt\n",
        "\n",
        "# Your code here"
      ],
      "execution_count": null,
      "outputs": []
    },
    {
      "cell_type": "markdown",
      "metadata": {
        "id": "MXwQvzBILkfh"
      },
      "source": [
        "Take a look at the plot you've obtained. Where are 'redish', 'greenish' and 'blueish' colors located? What can you say about the location of similar colors?"
      ]
    },
    {
      "cell_type": "markdown",
      "metadata": {
        "id": "2grkJRHWDrnK"
      },
      "source": [
        "## **Distances between colors**\n",
        "\n",
        "Recall that Euclidian distance between two points $x=(x_1, ..., x_n)$ and $y = (y_1, ..., y_n)$ in an $n$-dimensional space is defined as follows:\n",
        "\n",
        "$dist(x, y) = ||x-y||_2 = \\sqrt{(x_1-y_1)^2 + ... + (x_n-y_n)^2}$.\n",
        "\n",
        "Implement a function that computed Euclidian distance between two colors in the RGB-space."
      ]
    },
    {
      "cell_type": "code",
      "metadata": {
        "id": "2WNSnnYZDwCA"
      },
      "source": [
        "import numpy as np\n",
        "\n",
        "def distance(color1, color2):\n",
        "  # Your code here\n",
        "  pass"
      ],
      "execution_count": null,
      "outputs": []
    },
    {
      "cell_type": "markdown",
      "metadata": {
        "id": "v_MuaWFdMpYB"
      },
      "source": [
        "Try to use your function for computing distances between different colors in the data. What do you observe?"
      ]
    },
    {
      "cell_type": "code",
      "metadata": {
        "id": "K_YvsNP9D3Cg"
      },
      "source": [
        "distance(colors['red'], colors['dark red'])"
      ],
      "execution_count": null,
      "outputs": []
    },
    {
      "cell_type": "code",
      "metadata": {
        "id": "LxB2G0CxD3Ib"
      },
      "source": [
        "distance(colors['red'], colors['blue'])"
      ],
      "execution_count": null,
      "outputs": []
    },
    {
      "cell_type": "markdown",
      "metadata": {
        "id": "XjMadx2QM3Ja"
      },
      "source": [
        "Now, implement a function that, given some RGB-vector, returns $n$ closest colors from our $\\texttt{colors}$ dictionary."
      ]
    },
    {
      "cell_type": "code",
      "metadata": {
        "id": "73Xs8xgID7y_"
      },
      "source": [
        "def find_n_closest(colors, new_color, n=5):\n",
        "  # Your code here\n",
        "  pass"
      ],
      "execution_count": null,
      "outputs": []
    },
    {
      "cell_type": "markdown",
      "metadata": {
        "id": "87syUOYGT_SW"
      },
      "source": [
        "Now, let's take some random new color and find $n=10$ closest colors to it in our dictionary. \n",
        "\n",
        "Experiment with different colors! "
      ]
    },
    {
      "cell_type": "code",
      "metadata": {
        "id": "9i_k1cXVNkZj"
      },
      "source": [
        "n = 10\n",
        "new_color = [152, 70, 10]\n",
        "\n",
        "# Your code here\n",
        "# closest = ..."
      ],
      "execution_count": null,
      "outputs": []
    },
    {
      "cell_type": "markdown",
      "metadata": {
        "id": "gBXPc4J9Dlak"
      },
      "source": [
        "## **Operations with color vectors**\n",
        "\n",
        "Let's now try to perform some vector operations on the RGB-vectors.\n",
        "\n",
        "### Vector addition\n",
        "\n",
        "Define a function that sums up to vectors."
      ]
    },
    {
      "cell_type": "code",
      "metadata": {
        "id": "BMJv_aAWphE1"
      },
      "source": [
        "def add_colors(color1, color2):\n",
        "  # Your code here\n",
        "  pass"
      ],
      "execution_count": null,
      "outputs": []
    },
    {
      "cell_type": "markdown",
      "metadata": {
        "id": "Vdhj1chyWFKc"
      },
      "source": [
        "Let's consider two colors, for example $\\texttt{red}$ and $\\texttt{blue}$:"
      ]
    },
    {
      "cell_type": "code",
      "metadata": {
        "id": "PmhL3rk-SYc9"
      },
      "source": [
        "color1 = 'red'\n",
        "color2 = 'blue'\n",
        "\n",
        "# Plotting the colors \n",
        "fig, (ax1, ax2) = plt.subplots(1, 2, figsize=(4, 2))\n",
        "ax1.set_facecolor('xkcd:'+color1) \n",
        "ax1.set_xticks([])\n",
        "ax1.set_yticks([])\n",
        "ax1.set_title(color1)\n",
        "\n",
        "ax2.set_facecolor('xkcd:'+color2) \n",
        "ax2.set_xticks([])\n",
        "ax2.set_yticks([])\n",
        "ax2.set_title(color2)"
      ],
      "execution_count": null,
      "outputs": []
    },
    {
      "cell_type": "markdown",
      "metadata": {
        "id": "sQcCksloWT5o"
      },
      "source": [
        "Which colors in our dictionary are the closest to the sum of those two colors?"
      ]
    },
    {
      "cell_type": "code",
      "metadata": {
        "id": "Zk1koS32RsfL"
      },
      "source": [
        "# Your code here"
      ],
      "execution_count": null,
      "outputs": []
    },
    {
      "cell_type": "markdown",
      "metadata": {
        "id": "VRhJH6CQWbLM"
      },
      "source": [
        "Experiment with more colors!"
      ]
    },
    {
      "cell_type": "markdown",
      "metadata": {
        "id": "adyIOjtgWei6"
      },
      "source": [
        "### Vector subtraction\n",
        "\n",
        "Define a function that subtracts one vector from the other."
      ]
    },
    {
      "cell_type": "code",
      "metadata": {
        "id": "yBXMCECbqP8_"
      },
      "source": [
        "def subtract_colors(color1, color2):\n",
        "  # Your code here\n",
        "  pass"
      ],
      "execution_count": null,
      "outputs": []
    },
    {
      "cell_type": "markdown",
      "metadata": {
        "id": "EswIKrl-Wlkf"
      },
      "source": [
        "Now, let's consider $\\texttt{purple}$ and $\\texttt{red}$:"
      ]
    },
    {
      "cell_type": "code",
      "metadata": {
        "id": "y43iu0uxqmfq"
      },
      "source": [
        "color1 = 'purple'\n",
        "color2 = 'red'\n",
        "\n",
        "# Plotting the colors\n",
        "fig, (ax1, ax2) = plt.subplots(1, 2, figsize=(4, 2))\n",
        "ax1.set_facecolor('xkcd:'+color1) \n",
        "ax1.set_xticks([])\n",
        "ax1.set_yticks([])\n",
        "ax1.set_title(color1)\n",
        "\n",
        "ax2.set_facecolor('xkcd:'+color2) \n",
        "ax2.set_xticks([])\n",
        "ax2.set_yticks([])\n",
        "ax2.set_title(color2)"
      ],
      "execution_count": null,
      "outputs": []
    },
    {
      "cell_type": "markdown",
      "metadata": {
        "id": "UkreDf0cWucO"
      },
      "source": [
        "What does the difference between them looks like? Find the closest colors n our dictionary."
      ]
    },
    {
      "cell_type": "code",
      "metadata": {
        "id": "SM7DrbC8TEZK"
      },
      "source": [
        "# Your code here"
      ],
      "execution_count": null,
      "outputs": []
    },
    {
      "cell_type": "markdown",
      "metadata": {
        "id": "IXGqZFG8EYpC"
      },
      "source": [
        "## **References**\n",
        "\n",
        "This notebook is inspired by a [tutorial by Allison Parrish](https://gist.github.com/aparrish/2f562e3737544cf29aaf1af30362f469)."
      ]
    }
  ]
}