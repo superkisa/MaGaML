{
  "nbformat": 4,
  "nbformat_minor": 0,
  "metadata": {
    "colab": {
      "provenance": [],
      "include_colab_link": true
    },
    "kernelspec": {
      "name": "python3",
      "display_name": "Python 3"
    },
    "language_info": {
      "name": "python"
    }
  },
  "cells": [
    {
      "cell_type": "markdown",
      "metadata": {
        "id": "view-in-github",
        "colab_type": "text"
      },
      "source": [
        "<a href=\"https://colab.research.google.com/github/superkisa/MaGaML/blob/main/MathRefresher/sem_Gram-Schmidt.ipynb\" target=\"_parent\"><img src=\"https://colab.research.google.com/assets/colab-badge.svg\" alt=\"Open In Colab\"/></a>"
      ]
    },
    {
      "cell_type": "markdown",
      "metadata": {
        "id": "F7zHLzlnuMZt"
      },
      "source": [
        "# **Gram-Schmidt Process**\n",
        "\n",
        "In this notebook, you'll implement the Gram-Schmidt process."
      ]
    },
    {
      "cell_type": "markdown",
      "metadata": {
        "id": "nKh8lPIUwpEc"
      },
      "source": [
        "## **NumPy: the very basics**\n",
        "\n",
        "We'll start with reviewing (or getting familiar with) some useful functions from the $\\texttt{numpy}$ library that is used for vector computations in Python.\n",
        "\n",
        "Let's import it first:"
      ]
    },
    {
      "cell_type": "code",
      "metadata": {
        "id": "P756WIBG6enC"
      },
      "source": [
        "import numpy as np"
      ],
      "execution_count": 1,
      "outputs": []
    },
    {
      "cell_type": "markdown",
      "metadata": {
        "id": "NeTEHWoM61Ly"
      },
      "source": [
        "Here are some useful commands:"
      ]
    },
    {
      "cell_type": "code",
      "metadata": {
        "id": "Jun76BVVo1NA",
        "outputId": "8acf1daa-f3dc-4725-960a-3cecdb25a8f0",
        "colab": {
          "base_uri": "https://localhost:8080/"
        }
      },
      "source": [
        "# Creating a vector\n",
        "np.array([1, 1, 2])"
      ],
      "execution_count": null,
      "outputs": [
        {
          "output_type": "execute_result",
          "data": {
            "text/plain": [
              "array([1, 1, 2])"
            ]
          },
          "metadata": {},
          "execution_count": 2
        }
      ]
    },
    {
      "cell_type": "code",
      "metadata": {
        "id": "4OCy6ELKt_ho",
        "outputId": "173d3b28-3aa0-4213-bd5a-a0a6cb5468b7",
        "colab": {
          "base_uri": "https://localhost:8080/"
        }
      },
      "source": [
        "# Computing dot product\n",
        "np.dot(np.array([1.,1.,1.]), np.array([1.,0.,1.]))"
      ],
      "execution_count": null,
      "outputs": [
        {
          "output_type": "execute_result",
          "data": {
            "text/plain": [
              "2.0"
            ]
          },
          "metadata": {},
          "execution_count": 3
        }
      ]
    },
    {
      "cell_type": "code",
      "metadata": {
        "id": "LF2L2u4Vv4ll",
        "outputId": "65dc27c5-bb05-42ce-f746-eebeb0548b2d",
        "colab": {
          "base_uri": "https://localhost:8080/"
        }
      },
      "source": [
        "# Computig length of a vector (default - l2)\n",
        "np.linalg.norm(np.array([1, 1, 2]))"
      ],
      "execution_count": null,
      "outputs": [
        {
          "output_type": "execute_result",
          "data": {
            "text/plain": [
              "2.449489742783178"
            ]
          },
          "metadata": {},
          "execution_count": 4
        }
      ]
    },
    {
      "cell_type": "markdown",
      "metadata": {
        "id": "omxI0nHewMRv"
      },
      "source": [
        "Remember how else can we compute the same vector length using just the dot product? Try it out!\n",
        "\n",
        "Hint: $||x||_2 = \\sqrt{(x,x)}$."
      ]
    },
    {
      "cell_type": "code",
      "metadata": {
        "id": "3Ig_J6dxwDVI",
        "outputId": "e22f95e6-25e2-418f-d7d1-d44e385048c9",
        "colab": {
          "base_uri": "https://localhost:8080/"
        }
      },
      "source": [
        "# Your code here\n",
        "import math\n",
        "math.sqrt(np.sum((np.array([1, 1, 2]))**2))"
      ],
      "execution_count": 3,
      "outputs": [
        {
          "output_type": "execute_result",
          "data": {
            "text/plain": [
              "2.449489742783178"
            ]
          },
          "metadata": {},
          "execution_count": 3
        }
      ]
    },
    {
      "cell_type": "markdown",
      "metadata": {
        "id": "WogbwTARwkTV"
      },
      "source": [
        "## **Implementing Gram-Schmidt Process**\n",
        "\n",
        "During the exercise session, we dicscussed the so-called **Gram-Schmidt pocess** that allows one to transform any basis of a linear subspace into an orthogonal one, i.e., into a basis where vectors are mutually orthogonal.\n",
        "\n",
        "Let's recall how this procedure goes.\n",
        "\n",
        "Imagine you have a basis $B = \\{b_1, b_2, ..., b_n\\}$. Let's construct an orthogonal basis $V = \\{v_1, v_2, ..., v_n\\}$ from it.\n",
        "\n",
        "1. Set $v_1 = b_1$.\n",
        "\n",
        "2. Let's look for $v_2$ as $v_2 = b_2 + \\alpha v_1$, where $\\alpha$ is a number that we chose in such a way that the vectors $v_1$ and $v_2$ are indeed orthogonal:\n",
        "\n",
        "$0 = (v_1, v_2) = (v_1, b_2 + \\alpha v_1) = (v_1, b_2) = \\alpha(v_1, v_1)$. \n",
        "\n",
        "So, $\\alpha = - \\frac{(v_1, b_2)}{(v_1, v_1)}$ and we can compute $v_2$ as  $v_2 = b_2 + - \\frac{(v_1, b_2)}{(v_1, v_1)} v_1$.\n",
        "\n",
        "3. Imagine that we've already constructed vectors $v_1, ..., v_{k-1}$ in our orthogonal basis. We are now looking for vector $v_k = b_k + \\alpha_1 v_1 + \\alpha_2 v_2 + ... + \\alpha_{k-1} v_{k-1}$.\n",
        "\n",
        "Again, we chose numbers $\\alpha_1, ..., \\alpha_{k-1}$ in such a way that $(v_k, v_i) = 0 \\ \\forall i = 1, ..., k-1$:\n",
        "\n",
        "$0 = (v_k, v_i) = (v_k, b_k) + \\alpha_1 (v_k, v_1) + ... + \\alpha_i (v_i, v_i) + ... +\\alpha_{k-1}(v_k, v_{k-1}) = (v_k, b_k) + $\n",
        "\n",
        "That means that $\\alpha_i = - \\frac{(v_i, b_k)}{(v_i, v_i)}$ and\n",
        "\n",
        "$v_k = b_k + - \\frac{(v_1, b_k)}{(v_1, v_1)} v_1 + - \\frac{(v_2, b_k)}{(v_2, v_2)} v_2 + ... + - \\frac{(v_{k-1}, b_k)}{(v_{k-1}, v_{k-1})} v_{k-1}$.\n",
        "\n"
      ]
    },
    {
      "cell_type": "markdown",
      "metadata": {
        "id": "-SLteAkAy3qL"
      },
      "source": [
        "Your task is to implement a function that takes a list of basis vectors ($\\texttt{numpy}$-arrays) and constructs an orthogonal basis from it following the Gram-Schmidt process described above."
      ]
    },
    {
      "cell_type": "code",
      "metadata": {
        "id": "trJa6fNNpDWS"
      },
      "source": [
        "def gram_schmidt(basis, normalize=False):\n",
        "  # Your code here\n",
        "  v1 = basis[0]\n",
        "  alpha = - np.dot(v1, basis[1]) / np.dot(v1, v1)\n",
        "  v2 = basis[1] + alpha*v1\n",
        "  alpha1 = - np.dot(v1, basis[2]) / np.dot(v1, v1)\n",
        "  alpha2 = - np.dot(v2, basis[2]) / np.dot(v2, v2)\n",
        "  v3 = basis[2] + alpha1*v1 + alpha2*v2\n",
        "  if normalize == True:\n",
        "      v1 = v1 / np.linalg.norm(v1)\n",
        "      v2 = v2 / np.linalg.norm(v2)\n",
        "      v3 = v3 / np.linalg.norm(v3)\n",
        "  return [v1, v2, v3]"
      ],
      "execution_count": 23,
      "outputs": []
    },
    {
      "cell_type": "code",
      "metadata": {
        "id": "dKwiR24zuU4x",
        "outputId": "d01f1094-bd90-438c-b6c6-28b80f0b0b2a",
        "colab": {
          "base_uri": "https://localhost:8080/"
        }
      },
      "source": [
        "basis1 = [np.array([1.,1.,1.]), \n",
        "         np.array([1.,1.,2.]), \n",
        "         np.array([1.,2.,3.])]\n",
        "\n",
        "gram_schmidt(basis1)"
      ],
      "execution_count": 24,
      "outputs": [
        {
          "output_type": "execute_result",
          "data": {
            "text/plain": [
              "[array([1., 1., 1.]),\n",
              " array([-0.33333333, -0.33333333,  0.66666667]),\n",
              " array([-5.0000000e-01,  5.0000000e-01, -4.4408921e-16])]"
            ]
          },
          "metadata": {},
          "execution_count": 24
        }
      ]
    },
    {
      "cell_type": "markdown",
      "metadata": {
        "id": "ZD5wxCsj7AD8"
      },
      "source": [
        "Let's try to orthogonalize some basis with the help of your new function! Check that everything works as expected."
      ]
    },
    {
      "cell_type": "code",
      "metadata": {
        "id": "YLGbmIhHp0iF",
        "outputId": "bc9523c5-02f2-45a7-e126-bd2f17d8dace",
        "colab": {
          "base_uri": "https://localhost:8080/"
        }
      },
      "source": [
        "basis2 = [np.array([1.,1.,1.]), \n",
        "         np.array([1.,2.,0.]), \n",
        "         np.array([2.,0.,1.])]\n",
        "\n",
        "gram_schmidt(basis2, normalize=True)"
      ],
      "execution_count": 25,
      "outputs": [
        {
          "output_type": "execute_result",
          "data": {
            "text/plain": [
              "[array([0.57735027, 0.57735027, 0.57735027]),\n",
              " array([ 0.        ,  0.70710678, -0.70710678]),\n",
              " array([ 0.81649658, -0.40824829, -0.40824829])]"
            ]
          },
          "metadata": {},
          "execution_count": 25
        }
      ]
    },
    {
      "cell_type": "markdown",
      "metadata": {
        "id": "j_mbGrKg7J3L"
      },
      "source": [
        "Another example:"
      ]
    },
    {
      "cell_type": "code",
      "metadata": {
        "id": "6xkxjrAdtO1h",
        "outputId": "420a106d-2c52-4b00-bfce-d341d91d065c",
        "colab": {
          "base_uri": "https://localhost:8080/"
        }
      },
      "source": [
        "v = gram_schmidt(basis2)\n",
        "v"
      ],
      "execution_count": 26,
      "outputs": [
        {
          "output_type": "execute_result",
          "data": {
            "text/plain": [
              "[array([1., 1., 1.]), array([ 0.,  1., -1.]), array([ 1. , -0.5, -0.5])]"
            ]
          },
          "metadata": {},
          "execution_count": 26
        }
      ]
    },
    {
      "cell_type": "markdown",
      "metadata": {
        "id": "PBPPMP_t7Mhp"
      },
      "source": [
        "Now, change the orthogonalization process so that you get not just orthogonal but orthonormal basis. \n",
        "\n",
        "Then, run the examples again to check it out."
      ]
    }
  ]
}