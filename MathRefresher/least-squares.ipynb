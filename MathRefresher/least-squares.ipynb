{
  "nbformat": 4,
  "nbformat_minor": 0,
  "metadata": {
    "colab": {
      "provenance": [],
      "include_colab_link": true
    },
    "kernelspec": {
      "name": "python3",
      "display_name": "Python 3"
    },
    "language_info": {
      "name": "python"
    }
  },
  "cells": [
    {
      "cell_type": "markdown",
      "metadata": {
        "id": "view-in-github",
        "colab_type": "text"
      },
      "source": [
        "<a href=\"https://colab.research.google.com/github/superkisa/MaGaML/blob/main/MathRefresher/least-squares.ipynb\" target=\"_parent\"><img src=\"https://colab.research.google.com/assets/colab-badge.svg\" alt=\"Open In Colab\"/></a>"
      ]
    },
    {
      "cell_type": "markdown",
      "metadata": {
        "id": "cFjVhgpSEXMo"
      },
      "source": [
        "# **Least Squares: a Linear Algebra Perspective**\n",
        "\n",
        "Least squares method provides us with an approximate solution $w^*$ to a overdetermined system of linear equations $Xw = y$ that doesn't have exact solutions.\n",
        "\n",
        "As you already know, coefficients $w$ of the least squares hyperplane can be found as follows:\n",
        "\n",
        "$w^* = (X^TX)^{-1}X^Ty$, where $X$ is the input features matrix and $y$ is the vector of target values.\n",
        "\n",
        "Predictions $\\hat{y} $ of a linear regression model can be therefore found as $\\hat{y} = Xw^* = X(X^TX)^{-1}X^Ty$.\n",
        "\n",
        "In this notebook, you will implement least squares regression yourself. \n",
        "\n",
        "Run the cells one-by-one, adding your code where needed."
      ]
    },
    {
      "cell_type": "code",
      "metadata": {
        "id": "bwCDu-nOEWPK"
      },
      "source": [
        "import numpy as np"
      ],
      "execution_count": 2,
      "outputs": []
    },
    {
      "cell_type": "markdown",
      "metadata": {
        "id": "YNribFrbxcWv"
      },
      "source": [
        "Let's start with a toy dataset we worked with during the practical session:"
      ]
    },
    {
      "cell_type": "code",
      "metadata": {
        "id": "tYYqEWgdtCle"
      },
      "source": [
        "X = np.array([[1, 1], [1, 2], [1, 3]])\n",
        "y = np.array([1, 3, 2])"
      ],
      "execution_count": 3,
      "outputs": []
    },
    {
      "cell_type": "markdown",
      "metadata": {
        "id": "5oxZtMYaxi32"
      },
      "source": [
        "Define a function that performs least squares regression given the data and returns a vector $w$ containing the coefficients of the least-squares hyperplane (in the toy example -  least squares line)."
      ]
    },
    {
      "cell_type": "code",
      "metadata": {
        "id": "VcKy6U0Qs13y"
      },
      "source": [
        "def least_squares(X, y):\n",
        "  # Your code here\n",
        "  return np.linalg.inv(X.T @ X) @ X.T @ y"
      ],
      "execution_count": 10,
      "outputs": []
    },
    {
      "cell_type": "markdown",
      "metadata": {
        "id": "cjA_NGqPyIxw"
      },
      "source": [
        "Let's try it out. Which coefficients does your function return for the toy data above?"
      ]
    },
    {
      "cell_type": "code",
      "metadata": {
        "id": "AVXm_4pCtHwd",
        "outputId": "0d8f0f6b-fa77-4119-c442-fc9f559e53b2",
        "colab": {
          "base_uri": "https://localhost:8080/"
        }
      },
      "source": [
        "w = least_squares(X, y)\n",
        "print('y = ', w[0], '+ ', w[1], 'x')"
      ],
      "execution_count": 11,
      "outputs": [
        {
          "output_type": "stream",
          "name": "stdout",
          "text": [
            "y =  0.9999999999999982 +  0.5 x\n"
          ]
        }
      ]
    },
    {
      "cell_type": "markdown",
      "metadata": {
        "id": "r9JvlyF2-pAW"
      },
      "source": [
        "*Remember that for this example, we have already computed the coefficients  manually. The correct least squares line is $y = 1 + 0.5x$. If you're getting a different result, there is a mistake somewhere.*"
      ]
    },
    {
      "cell_type": "markdown",
      "metadata": {
        "id": "Gp7fp8-3yzD3"
      },
      "source": [
        "And what are the predictions obtained by your model for $X$? "
      ]
    },
    {
      "cell_type": "code",
      "metadata": {
        "id": "IA4XikrGtWcu"
      },
      "source": [
        "# Your code here\n",
        "y_hat = X @ least_squares(X, y)"
      ],
      "execution_count": 12,
      "outputs": []
    },
    {
      "cell_type": "markdown",
      "metadata": {
        "id": "OtxKY3BYzAYe"
      },
      "source": [
        "Let's visualize it! Run the code below to plot the actual data, regression line and model predictions."
      ]
    },
    {
      "cell_type": "code",
      "metadata": {
        "id": "iaTTMsHpuVDH",
        "outputId": "b3d4c814-698f-4eb5-de92-2dbdc1fb9984",
        "colab": {
          "base_uri": "https://localhost:8080/",
          "height": 283
        }
      },
      "source": [
        "import matplotlib.pyplot as plt\n",
        "%matplotlib inline\n",
        "\n",
        "fig = plt.plot()\n",
        "plt.scatter(X[:,1], y, label='data')\n",
        "\n",
        "xx = np.linspace(0,4,100)\n",
        "yy = w[0] +w[1]*xx\n",
        "plt.plot(xx, yy, color='orange')\n",
        "\n",
        "plt.scatter(X[:,1], y_hat, color='red', label='predicted')\n",
        "\n",
        "plt.legend()"
      ],
      "execution_count": 13,
      "outputs": [
        {
          "output_type": "execute_result",
          "data": {
            "text/plain": [
              "<matplotlib.legend.Legend at 0x7f52d9398890>"
            ]
          },
          "metadata": {},
          "execution_count": 13
        },
        {
          "output_type": "display_data",
          "data": {
            "text/plain": [
              "<Figure size 432x288 with 1 Axes>"
            ],
            "image/png": "[encoded data removed]"
          },
          "metadata": {
            "needs_background": "light"
          }
        }
      ]
    },
    {
      "cell_type": "markdown",
      "metadata": {
        "id": "0j9sQlxGvtLC"
      },
      "source": [
        "## **Working with real data**\n",
        "\n",
        "Now, let's try to fit a similar model on more interesting data.\n",
        "\n",
        "We will be working with the [diabetes dataset](https://scikit-learn.org/stable/datasets/toy_dataset.html#diabetes-dataset).\n",
        "\n",
        "The dataset contains ten baseline measurements (age, sex, body mass index, average blood pressure, and six blood serum measurements), as well as a quantitative measure of diabetes progression for over 400 patients.\n",
        "\n",
        "First, we need to load the data. It's already included in the \n",
        "$\\texttt{datasets}$ module of the $\\texttt{sklearn}$ library:"
      ]
    },
    {
      "cell_type": "code",
      "metadata": {
        "id": "y500pa1-EuQh"
      },
      "source": [
        "from sklearn.datasets import load_diabetes\n",
        "\n",
        "diabetes = load_diabetes()\n",
        "X = diabetes.data\n",
        "y = diabetes.target"
      ],
      "execution_count": 39,
      "outputs": []
    },
    {
      "cell_type": "markdown",
      "metadata": {
        "id": "D7JEh6Anwayu"
      },
      "source": [
        "We can check the size of the dataset..."
      ]
    },
    {
      "cell_type": "code",
      "metadata": {
        "id": "vtex6KfuGNra",
        "outputId": "6c851893-541a-435b-de20-26938b3ea04c",
        "colab": {
          "base_uri": "https://localhost:8080/"
        }
      },
      "source": [
        "X.shape"
      ],
      "execution_count": 40,
      "outputs": [
        {
          "output_type": "execute_result",
          "data": {
            "text/plain": [
              "(442, 10)"
            ]
          },
          "metadata": {},
          "execution_count": 40
        }
      ]
    },
    {
      "cell_type": "code",
      "metadata": {
        "id": "rehPWPlSuIQE",
        "outputId": "188193e6-6b2e-45fc-bb5a-07cf2026d778",
        "colab": {
          "base_uri": "https://localhost:8080/"
        }
      },
      "source": [
        "y.shape"
      ],
      "execution_count": 41,
      "outputs": [
        {
          "output_type": "execute_result",
          "data": {
            "text/plain": [
              "(442,)"
            ]
          },
          "metadata": {},
          "execution_count": 41
        }
      ]
    },
    {
      "cell_type": "markdown",
      "metadata": {
        "id": "h4RcPGTJ1bI1"
      },
      "source": [
        "... and take a look at the data:"
      ]
    },
    {
      "cell_type": "code",
      "metadata": {
        "id": "n-q6F_wB1d6S",
        "outputId": "03e06cea-659e-4bd9-a70b-a0af51f686eb",
        "colab": {
          "base_uri": "https://localhost:8080/"
        }
      },
      "source": [
        "X"
      ],
      "execution_count": 42,
      "outputs": [
        {
          "output_type": "execute_result",
          "data": {
            "text/plain": [
              "array([[ 0.03807591,  0.05068012,  0.06169621, ..., -0.00259226,\n",
              "         0.01990842, -0.01764613],\n",
              "       [-0.00188202, -0.04464164, -0.05147406, ..., -0.03949338,\n",
              "        -0.06832974, -0.09220405],\n",
              "       [ 0.08529891,  0.05068012,  0.04445121, ..., -0.00259226,\n",
              "         0.00286377, -0.02593034],\n",
              "       ...,\n",
              "       [ 0.04170844,  0.05068012, -0.01590626, ..., -0.01107952,\n",
              "        -0.04687948,  0.01549073],\n",
              "       [-0.04547248, -0.04464164,  0.03906215, ...,  0.02655962,\n",
              "         0.04452837, -0.02593034],\n",
              "       [-0.04547248, -0.04464164, -0.0730303 , ..., -0.03949338,\n",
              "        -0.00421986,  0.00306441]])"
            ]
          },
          "metadata": {},
          "execution_count": 42
        }
      ]
    },
    {
      "cell_type": "code",
      "metadata": {
        "id": "MZfM_fCT1hHt",
        "outputId": "15ca9707-df26-4388-ea16-ce47bb9f9542",
        "colab": {
          "base_uri": "https://localhost:8080/"
        }
      },
      "source": [
        "y"
      ],
      "execution_count": 43,
      "outputs": [
        {
          "output_type": "execute_result",
          "data": {
            "text/plain": [
              "array([151.,  75., 141., 206., 135.,  97., 138.,  63., 110., 310., 101.,\n",
              "        69., 179., 185., 118., 171., 166., 144.,  97., 168.,  68.,  49.,\n",
              "        68., 245., 184., 202., 137.,  85., 131., 283., 129.,  59., 341.,\n",
              "        87.,  65., 102., 265., 276., 252.,  90., 100.,  55.,  61.,  92.,\n",
              "       259.,  53., 190., 142.,  75., 142., 155., 225.,  59., 104., 182.,\n",
              "       128.,  52.,  37., 170., 170.,  61., 144.,  52., 128.,  71., 163.,\n",
              "       150.,  97., 160., 178.,  48., 270., 202., 111.,  85.,  42., 170.,\n",
              "       200., 252., 113., 143.,  51.,  52., 210.,  65., 141.,  55., 134.,\n",
              "        42., 111.,  98., 164.,  48.,  96.,  90., 162., 150., 279.,  92.,\n",
              "        83., 128., 102., 302., 198.,  95.,  53., 134., 144., 232.,  81.,\n",
              "       104.,  59., 246., 297., 258., 229., 275., 281., 179., 200., 200.,\n",
              "       173., 180.,  84., 121., 161.,  99., 109., 115., 268., 274., 158.,\n",
              "       107.,  83., 103., 272.,  85., 280., 336., 281., 118., 317., 235.,\n",
              "        60., 174., 259., 178., 128.,  96., 126., 288.,  88., 292.,  71.,\n",
              "       197., 186.,  25.,  84.,  96., 195.,  53., 217., 172., 131., 214.,\n",
              "        59.,  70., 220., 268., 152.,  47.,  74., 295., 101., 151., 127.,\n",
              "       237., 225.,  81., 151., 107.,  64., 138., 185., 265., 101., 137.,\n",
              "       143., 141.,  79., 292., 178.,  91., 116.,  86., 122.,  72., 129.,\n",
              "       142.,  90., 158.,  39., 196., 222., 277.,  99., 196., 202., 155.,\n",
              "        77., 191.,  70.,  73.,  49.,  65., 263., 248., 296., 214., 185.,\n",
              "        78.,  93., 252., 150.,  77., 208.,  77., 108., 160.,  53., 220.,\n",
              "       154., 259.,  90., 246., 124.,  67.,  72., 257., 262., 275., 177.,\n",
              "        71.,  47., 187., 125.,  78.,  51., 258., 215., 303., 243.,  91.,\n",
              "       150., 310., 153., 346.,  63.,  89.,  50.,  39., 103., 308., 116.,\n",
              "       145.,  74.,  45., 115., 264.,  87., 202., 127., 182., 241.,  66.,\n",
              "        94., 283.,  64., 102., 200., 265.,  94., 230., 181., 156., 233.,\n",
              "        60., 219.,  80.,  68., 332., 248.,  84., 200.,  55.,  85.,  89.,\n",
              "        31., 129.,  83., 275.,  65., 198., 236., 253., 124.,  44., 172.,\n",
              "       114., 142., 109., 180., 144., 163., 147.,  97., 220., 190., 109.,\n",
              "       191., 122., 230., 242., 248., 249., 192., 131., 237.,  78., 135.,\n",
              "       244., 199., 270., 164.,  72.,  96., 306.,  91., 214.,  95., 216.,\n",
              "       263., 178., 113., 200., 139., 139.,  88., 148.,  88., 243.,  71.,\n",
              "        77., 109., 272.,  60.,  54., 221.,  90., 311., 281., 182., 321.,\n",
              "        58., 262., 206., 233., 242., 123., 167.,  63., 197.,  71., 168.,\n",
              "       140., 217., 121., 235., 245.,  40.,  52., 104., 132.,  88.,  69.,\n",
              "       219.,  72., 201., 110.,  51., 277.,  63., 118.,  69., 273., 258.,\n",
              "        43., 198., 242., 232., 175.,  93., 168., 275., 293., 281.,  72.,\n",
              "       140., 189., 181., 209., 136., 261., 113., 131., 174., 257.,  55.,\n",
              "        84.,  42., 146., 212., 233.,  91., 111., 152., 120.,  67., 310.,\n",
              "        94., 183.,  66., 173.,  72.,  49.,  64.,  48., 178., 104., 132.,\n",
              "       220.,  57.])"
            ]
          },
          "metadata": {},
          "execution_count": 43
        }
      ]
    },
    {
      "cell_type": "markdown",
      "metadata": {
        "id": "mdnM6nXewfmR"
      },
      "source": [
        "Now, let's try to fit a least-squares hyperplane through the data so that we can predict diabetes progression based on the results of the ten baseline measurements.  \n",
        "\n",
        "(!!!) Before applying your function to the data, don't forget to insert the auxilary columns filled with $1$s into the data matrix $X$.\n",
        "\n",
        "Hint: [np.insert()](https://numpy.org/doc/stable/reference/generated/numpy.insert.html) might be helpful."
      ]
    },
    {
      "cell_type": "code",
      "metadata": {
        "id": "ZdRuBnWPEz4t"
      },
      "source": [
        "# Your code here\n",
        "X = np.insert(X, 0, 1, axis=1)"
      ],
      "execution_count": 44,
      "outputs": []
    },
    {
      "cell_type": "markdown",
      "metadata": {
        "id": "4szFqHun0rHm"
      },
      "source": [
        "Now, let's estimate the model's coefficients:"
      ]
    },
    {
      "cell_type": "code",
      "metadata": {
        "id": "b7PBTAL_xA7G"
      },
      "source": [
        "# Your code here\n",
        "w = least_squares(X, y)"
      ],
      "execution_count": 45,
      "outputs": []
    },
    {
      "cell_type": "markdown",
      "metadata": {
        "id": "yGFQWY0h0u7w"
      },
      "source": [
        "Let's evaluate how much do model predictions $\\hat{y}$ differ from the original values $y$. Compute the so-called **Mean Squared Error ** (MSE), which is the average squared error of the prediction:\n",
        "\n",
        "$MSE = \\frac{1}{n} \\sum_{i=1}^n {(y_i - \\hat{y})_i^2}$."
      ]
    },
    {
      "cell_type": "code",
      "metadata": {
        "id": "sSQc67GGIBHw",
        "outputId": "ecdbcda2-e3a7-4a75-c640-d2177b209e33",
        "colab": {
          "base_uri": "https://localhost:8080/"
        }
      },
      "source": [
        "# Your code here\n",
        "y_hat = X @ w\n",
        "mse = np.sum((y - y_hat)**2) / y.shape[0]\n",
        "print(mse)"
      ],
      "execution_count": 46,
      "outputs": [
        {
          "output_type": "stream",
          "name": "stdout",
          "text": [
            "2859.6903987680657\n"
          ]
        }
      ]
    },
    {
      "cell_type": "code",
      "source": [],
      "metadata": {
        "id": "1BiESgFTarsp"
      },
      "execution_count": null,
      "outputs": []
    }
  ]
}