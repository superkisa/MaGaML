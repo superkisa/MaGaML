{
  "nbformat": 4,
  "nbformat_minor": 0,
  "metadata": {
    "colab": {
      "provenance": [],
      "include_colab_link": true
    },
    "kernelspec": {
      "name": "python3",
      "display_name": "Python 3"
    },
    "language_info": {
      "name": "python"
    }
  },
  "cells": [
    {
      "cell_type": "markdown",
      "metadata": {
        "id": "view-in-github",
        "colab_type": "text"
      },
      "source": [
        "<a href=\"https://colab.research.google.com/github/superkisa/MaGaML/blob/main/MathRefresher/least-squares.ipynb\" target=\"_parent\"><img src=\"https://colab.research.google.com/assets/colab-badge.svg\" alt=\"Open In Colab\"/></a>"
      ]
    },
    {
      "cell_type": "markdown",
      "metadata": {
        "id": "cFjVhgpSEXMo"
      },
      "source": [
        "# **Least Squares: a Linear Algebra Perspective**\n",
        "\n",
        "Least squares method provides us with an approximate solution $w^*$ to a overdetermined system of linear equations $Xw = y$ that doesn't have exact solutions.\n",
        "\n",
        "As you already know, coefficients $w$ of the least squares hyperplane can be found as follows:\n",
        "\n",
        "$w^* = (X^TX)^{-1}X^Ty$, where $X$ is the input features matrix and $y$ is the vector of target values.\n",
        "\n",
        "Predictions $\\hat{y} $ of a linear regression model can be therefore found as $\\hat{y} = Xw^* = X(X^TX)^{-1}X^Ty$.\n",
        "\n",
        "In this notebook, you will implement least squares regression yourself. \n",
        "\n",
        "Run the cells one-by-one, adding your code where needed."
      ]
    },
    {
      "cell_type": "code",
      "metadata": {
        "id": "bwCDu-nOEWPK"
      },
      "source": [
        "import numpy as np"
      ],
      "execution_count": null,
      "outputs": []
    },
    {
      "cell_type": "markdown",
      "metadata": {
        "id": "YNribFrbxcWv"
      },
      "source": [
        "Let's start with a toy dataset we worked with during the practical session:"
      ]
    },
    {
      "cell_type": "code",
      "metadata": {
        "id": "tYYqEWgdtCle"
      },
      "source": [
        "X = np.array([[1, 1], [1, 2], [1, 3]])\n",
        "y = np.array([1, 3, 2])"
      ],
      "execution_count": null,
      "outputs": []
    },
    {
      "cell_type": "markdown",
      "metadata": {
        "id": "5oxZtMYaxi32"
      },
      "source": [
        "Define a function that performs least squares regression given the data and returns a vector $w$ containing the coefficients of the least-squares hyperplane (in the toy example -  least squares line)."
      ]
    },
    {
      "cell_type": "code",
      "metadata": {
        "id": "VcKy6U0Qs13y"
      },
      "source": [
        "def least_squares(X, y):\n",
        "  # Your code here\n",
        "  pass"
      ],
      "execution_count": null,
      "outputs": []
    },
    {
      "cell_type": "markdown",
      "metadata": {
        "id": "cjA_NGqPyIxw"
      },
      "source": [
        "Let's try it out. Which coefficients does your function return for the toy data above?"
      ]
    },
    {
      "cell_type": "code",
      "metadata": {
        "id": "AVXm_4pCtHwd"
      },
      "source": [
        "w = least_squares(X, y)\n",
        "print('y = ', w[0], '+ ', w[1], 'x')"
      ],
      "execution_count": null,
      "outputs": []
    },
    {
      "cell_type": "markdown",
      "metadata": {
        "id": "r9JvlyF2-pAW"
      },
      "source": [
        "*Remember that for this example, we have already computed the coefficients  manually. The correct least squares line is $y = 1 + 0.5x$. If you're getting a different result, there is a mistake somewhere.*"
      ]
    },
    {
      "cell_type": "markdown",
      "metadata": {
        "id": "Gp7fp8-3yzD3"
      },
      "source": [
        "And what are the predictions obtained by your model for $X$? "
      ]
    },
    {
      "cell_type": "code",
      "metadata": {
        "id": "IA4XikrGtWcu"
      },
      "source": [
        "# Your code here\n",
        "# y_hat = ... "
      ],
      "execution_count": null,
      "outputs": []
    },
    {
      "cell_type": "markdown",
      "metadata": {
        "id": "OtxKY3BYzAYe"
      },
      "source": [
        "Let's visualize it! Run the code below to plot the actual data, regression line and model predictions."
      ]
    },
    {
      "cell_type": "code",
      "metadata": {
        "id": "iaTTMsHpuVDH"
      },
      "source": [
        "import matplotlib.pyplot as plt\n",
        "%matplotlib inline\n",
        "\n",
        "fig = plt.plot()\n",
        "plt.scatter(X[:,1], y, label='data')\n",
        "\n",
        "xx = np.linspace(0,4,100)\n",
        "yy = w[0] +w[1]*xx\n",
        "plt.plot(xx, yy, color='orange')\n",
        "\n",
        "plt.scatter(X[:,1], y_hat, color='red', label='predicted')\n",
        "\n",
        "plt.legend()"
      ],
      "execution_count": null,
      "outputs": []
    },
    {
      "cell_type": "markdown",
      "metadata": {
        "id": "0j9sQlxGvtLC"
      },
      "source": [
        "## **Working with real data**\n",
        "\n",
        "Now, let's try to fit a similar model on more interesting data.\n",
        "\n",
        "We will be working with the [diabetes dataset](https://scikit-learn.org/stable/datasets/toy_dataset.html#diabetes-dataset).\n",
        "\n",
        "The dataset contains ten baseline measurements (age, sex, body mass index, average blood pressure, and six blood serum measurements), as well as a quantitative measure of diabetes progression for over 400 patients.\n",
        "\n",
        "First, we need to load the data. It's already included in the \n",
        "$\\texttt{datasets}$ module of the $\\texttt{sklearn}$ library:"
      ]
    },
    {
      "cell_type": "code",
      "metadata": {
        "id": "y500pa1-EuQh"
      },
      "source": [
        "from sklearn.datasets import load_diabetes\n",
        "\n",
        "diabetes = load_diabetes()\n",
        "X = diabetes.data\n",
        "y = diabetes.target"
      ],
      "execution_count": null,
      "outputs": []
    },
    {
      "cell_type": "markdown",
      "metadata": {
        "id": "D7JEh6Anwayu"
      },
      "source": [
        "We can check the size of the dataset..."
      ]
    },
    {
      "cell_type": "code",
      "metadata": {
        "id": "vtex6KfuGNra"
      },
      "source": [
        "X.shape"
      ],
      "execution_count": null,
      "outputs": []
    },
    {
      "cell_type": "code",
      "metadata": {
        "id": "rehPWPlSuIQE"
      },
      "source": [
        "y.shape"
      ],
      "execution_count": null,
      "outputs": []
    },
    {
      "cell_type": "markdown",
      "metadata": {
        "id": "h4RcPGTJ1bI1"
      },
      "source": [
        "... and take a look at the data:"
      ]
    },
    {
      "cell_type": "code",
      "metadata": {
        "id": "n-q6F_wB1d6S"
      },
      "source": [
        "X"
      ],
      "execution_count": null,
      "outputs": []
    },
    {
      "cell_type": "code",
      "metadata": {
        "id": "MZfM_fCT1hHt"
      },
      "source": [
        "y"
      ],
      "execution_count": null,
      "outputs": []
    },
    {
      "cell_type": "markdown",
      "metadata": {
        "id": "mdnM6nXewfmR"
      },
      "source": [
        "Now, let's try to fit a least-squares hyperplane through the data so that we can predict diabetes progression based on the results of the ten baseline measurements.  \n",
        "\n",
        "(!!!) Before applying your function to the data, don't forget to insert the auxilary columns filled with $1$s into the data matrix $X$.\n",
        "\n",
        "Hint: [np.insert()](https://numpy.org/doc/stable/reference/generated/numpy.insert.html) might be helpful."
      ]
    },
    {
      "cell_type": "code",
      "metadata": {
        "id": "ZdRuBnWPEz4t"
      },
      "source": [
        "# Your code here"
      ],
      "execution_count": null,
      "outputs": []
    },
    {
      "cell_type": "markdown",
      "metadata": {
        "id": "4szFqHun0rHm"
      },
      "source": [
        "Now, let's estimate the model's coefficients:"
      ]
    },
    {
      "cell_type": "code",
      "metadata": {
        "id": "b7PBTAL_xA7G"
      },
      "source": [
        "# Your code here\n",
        "# w = ..."
      ],
      "execution_count": null,
      "outputs": []
    },
    {
      "cell_type": "markdown",
      "metadata": {
        "id": "yGFQWY0h0u7w"
      },
      "source": [
        "Let's evaluate how much do model predictions $\\hat{y}$ differ from the original values $y$. Compute the so-called **Mean Squared Error ** (MSE), which is the average squared error of the prediction:\n",
        "\n",
        "$MSE = \\frac{1}{n} \\sum_{i=1}^n {(y_i - \\hat{y})_i^2}$."
      ]
    },
    {
      "cell_type": "code",
      "metadata": {
        "id": "sSQc67GGIBHw"
      },
      "source": [
        "# Your code here\n",
        "# y_hat =\n",
        "# mse ="
      ],
      "execution_count": null,
      "outputs": []
    }
  ]
}