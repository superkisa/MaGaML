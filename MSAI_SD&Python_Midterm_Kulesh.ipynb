{
  "nbformat": 4,
  "nbformat_minor": 0,
  "metadata": {
    "colab": {
      "provenance": [],
      "toc_visible": true,
      "collapsed_sections": [],
      "include_colab_link": true
    },
    "kernelspec": {
      "name": "python3",
      "display_name": "Python 3"
    },
    "language_info": {
      "name": "python"
    }
  },
  "cells": [
    {
      "cell_type": "markdown",
      "metadata": {
        "id": "view-in-github",
        "colab_type": "text"
      },
      "source": [
        "<a href=\"https://colab.research.google.com/github/superkisa/MaGaML/blob/main/MSAI_SD%26Python_Midterm_Kulesh.ipynb\" target=\"_parent\"><img src=\"https://colab.research.google.com/assets/colab-badge.svg\" alt=\"Open In Colab\"/></a>"
      ]
    },
    {
      "cell_type": "markdown",
      "source": [
        "# Midterm Contest\n",
        "\n",
        "To complete this task:\n",
        "1. Make a copy of this notebook to your Colab\n",
        "3. Fill cells with solutions\n",
        "4. Create link to share with commenting access (Top Right Share --> General Access change to Anyone with the link --> Commenter)\n",
        "5. Send the link via [this form](https://docs.google.com/forms/d/e/1FAIpQLSfWoTfNx7hWJHkqj1JtHTDAiKuYGT1SX_Kdu1_h1Bgj1UQUdQ/viewform?usp=sf_link).\n",
        "\n",
        "Alternatively you can download Colab as Jupyter notebook, prepare task locally and upload it back to Google Colaboratory for sharing.\n",
        "\n",
        "Please, check link you shared has access for commenting (you can do it via Incognito/Private mode in your browser). And also check you've sent the form. Otherwise the work won't be scored.\n",
        "\n",
        "Don't hesitate to search and read documentation if you forget the syntax.\n",
        "\n",
        "**Don't modify cells with tests.**"
      ],
      "metadata": {
        "id": "t-85s_7h4R77"
      }
    },
    {
      "cell_type": "markdown",
      "source": [
        "# Section 1. 1 point tasks"
      ],
      "metadata": {
        "id": "mVUeydpDxKEq"
      }
    },
    {
      "cell_type": "markdown",
      "source": [
        "## 1.1 \n",
        "\n",
        "You're given a string variable which is supposed to be float. Write function `to_float` that returns float if it is correct number and `None` otherwise. Try statment can help you a lot."
      ],
      "metadata": {
        "id": "9KQo1B8-xcWp"
      }
    },
    {
      "cell_type": "code",
      "source": [],
      "metadata": {
        "id": "rjCUUSh1wXbd"
      },
      "execution_count": null,
      "outputs": []
    },
    {
      "cell_type": "code",
      "source": [
        "assert to_float('2.5') == 2.5\n",
        "assert to_float('2,5') == 2.5\n",
        "assert to_float('-2,5') == -2.5\n",
        "assert to_float('1') == 1.0\n",
        "assert to_float('abc') is None\n",
        "assert to_float('10 * 20') is None\n",
        "assert to_float('--1') is None\n",
        "assert to_float('') is None"
      ],
      "metadata": {
        "id": "4iIW2rhpZW78"
      },
      "execution_count": null,
      "outputs": []
    },
    {
      "cell_type": "markdown",
      "source": [
        "## 1.2 \n",
        "\n",
        "In this task there's one input variable which stands for a user's name. It may be written in lowercase, UPPERCASE, or sOmeTHingLikeThatCaSE.\n",
        "\n",
        "Create function `modify_case` that turns this string into regular case used with names: Firstletterisbigothersaresmall."
      ],
      "metadata": {
        "id": "4QfGXGrLwXlm"
      }
    },
    {
      "cell_type": "code",
      "source": [],
      "metadata": {
        "id": "X9ne97SKwbM7"
      },
      "execution_count": null,
      "outputs": []
    },
    {
      "cell_type": "code",
      "source": [
        "assert modify_case('lowercase') == 'Lowercase'\n",
        "assert modify_case('UPPERCASE') == 'Uppercase'\n",
        "assert modify_case('sOmeTHingLikeThatCaSE') == 'Somethinglikethatcase'\n",
        "assert modify_case('') == ''"
      ],
      "metadata": {
        "id": "qOm7FlpAbYtk"
      },
      "execution_count": null,
      "outputs": []
    },
    {
      "cell_type": "markdown",
      "source": [
        "## 1.3\n",
        "\n",
        "Here you're supposed to assign string `\"\"\"'''\\/'''\"\"\"` to a Python variable `quotes` (all 14 symbols)."
      ],
      "metadata": {
        "id": "-DEBu9-0wanB"
      }
    },
    {
      "cell_type": "code",
      "source": [],
      "metadata": {
        "id": "q1S8VolowmDQ"
      },
      "execution_count": null,
      "outputs": []
    },
    {
      "cell_type": "code",
      "source": [
        "assert len(quotes) == 14\n",
        "assert quotes[0] == quotes[1] == quotes[2] == quotes[11] == quotes[12] == quotes[13] == '\"'\n",
        "assert quotes[3] == quotes[4] == quotes[5] == quotes[8] == quotes[9] == quotes[10] == \"'\"\n",
        "assert quotes[6] == '\\\\'\n",
        "assert quotes[7] == '/'"
      ],
      "metadata": {
        "id": "8IMaxt86cRVk"
      },
      "execution_count": null,
      "outputs": []
    },
    {
      "cell_type": "markdown",
      "source": [
        "## 1.4\n",
        "\n",
        "You are helping a gym class teacher. He gives you a list of student names with their heights sorted by their height, e.g.: `[('A', 182), ('B', 179), ('C', 178), ('D', 172), ...]`. Then he enumerates them from $1$ to $n$, where $n$ is equal to the number of students.\n",
        "\n",
        "Your task is to give a teacher `team_a` and `team_b` lists. First with odd numbers in teacher's enumeration (`[('A', 182), ('C', 178), ...]`), second with even ones (`[('B', 179), ('D', 172), ...]`).\n",
        "\n"
      ],
      "metadata": {
        "id": "GtC7rsLqwgwj"
      }
    },
    {
      "cell_type": "code",
      "source": [],
      "metadata": {
        "id": "GigTL_p-wmbp"
      },
      "execution_count": null,
      "outputs": []
    },
    {
      "cell_type": "code",
      "source": [
        "assert split_students(\n",
        "    [\n",
        "        ('A', 182),\n",
        "        ('B', 179),\n",
        "        ('C', 178),\n",
        "        ('D', 172),\n",
        "    ]\n",
        ") == (\n",
        "    [\n",
        "        ('A', 182),\n",
        "        ('C', 178),\n",
        "    ],\n",
        "    [\n",
        "        ('B', 179),\n",
        "        ('D', 172),\n",
        "    ]\n",
        ")\n",
        "\n",
        "assert split_students(\n",
        "    [\n",
        "        ('A', 182),\n",
        "    ]\n",
        ") == (\n",
        "    [\n",
        "        ('A', 182),\n",
        "    ],\n",
        "    []\n",
        ")\n",
        "\n",
        "assert split_students([]) == ([], [])"
      ],
      "metadata": {
        "id": "Ck9YA7Vye3Kn"
      },
      "execution_count": null,
      "outputs": []
    },
    {
      "cell_type": "markdown",
      "source": [
        "## 1.5\n",
        "\n",
        "Imagine you're conducting a research in the game industry. You have two classes: `CSGOPlayer` and `Dota2Player`. Each of them has an attributes with players info: nickname, real name, age, game rating, etc.\n",
        "\n",
        "You're supposed to check how many gamers play both games, assuming that there are as many same players with different nicknames as different players with the same nicknames. And also assume that only nickname is trusted info, other is fake. The result is an integer value."
      ],
      "metadata": {
        "id": "KW2ZsPTIwg4Y"
      }
    },
    {
      "cell_type": "code",
      "source": [],
      "metadata": {
        "id": "Vz77aSpPwm5H"
      },
      "execution_count": null,
      "outputs": []
    },
    {
      "cell_type": "code",
      "source": [
        "assert count_same_nicknames(\n",
        "    [\n",
        "        CSGOPlayer (nickname='A', age=18, rating=1.0, name='Alex'),\n",
        "        Dota2Player(nickname='B', age=18, rating=0.0, name='Not Alex'),\n",
        "        Dota2Player(nickname='C', age=18, rating=0.5, name='Also Alex'),\n",
        "        CSGOPlayer (nickname='B', age=18, rating=0.8, name='May be Alex'),\n",
        "        CSGOPlayer (nickname='D', age=18, rating=0.4, name='John'),\n",
        "        CSGOPlayer (nickname='E', age=18, rating=1.0, name='Defenitely not Alex'),\n",
        "        Dota2Player(nickname='D', age=28, rating=0.9, name='Who is Alex?'),\n",
        "        Dota2Player(nickname='F', age=18, rating=0.1, name='Alexey'),\n",
        "    ]\n",
        ") == 2\n",
        "\n",
        "assert count_same_nicknames(\n",
        "    [\n",
        "        CSGOPlayer (nickname='A', age=18, rating=1.0, name='Alex'),\n",
        "        Dota2Player(nickname='B', age=18, rating=0.0, name='Not Alex'),\n",
        "    ]\n",
        ") == 0\n",
        "\n",
        "assert count_same_nicknames(\n",
        "    [\n",
        "        CSGOPlayer (nickname='A', age=18, rating=1.0, name='Alex'),\n",
        "    ]\n",
        ") == 0\n",
        "\n",
        "assert count_same_nicknames(\n",
        "    [\n",
        "        Dota2Player(nickname='B', age=18, rating=0.0, name='Not Alex'),\n",
        "    ]\n",
        ") == 0\n",
        "\n",
        "assert count_same_nicknames([]) == 0"
      ],
      "metadata": {
        "id": "G5TiEst8i4zp"
      },
      "execution_count": null,
      "outputs": []
    },
    {
      "cell_type": "markdown",
      "source": [
        "## 1.6\n",
        "\n",
        "Check if the point with coordinates $(x, y, z)$ is inside a cube with center in point with coordinates $(0, 0, 0)$ and edges with length $5$.\n"
      ],
      "metadata": {
        "id": "3Sio4UrAwg8K"
      }
    },
    {
      "cell_type": "code",
      "source": [],
      "metadata": {
        "id": "je_Rl6h1wnZ8"
      },
      "execution_count": null,
      "outputs": []
    },
    {
      "cell_type": "code",
      "source": [
        "assert check_point((0, 0, 0)) is True\n",
        "assert check_point((5, 5, 5)) is False\n",
        "assert check_point((2.1, 2.1, 2.1)) is True\n",
        "assert check_point((-2.5, -2.5, -2.5)) is True\n",
        "assert check_point((2.5, -2.6, -2.4)) is False\n",
        "assert check_point((-1, 1.5, 2)) is True"
      ],
      "metadata": {
        "id": "gS9DVVXNnIyX"
      },
      "execution_count": null,
      "outputs": []
    },
    {
      "cell_type": "markdown",
      "source": [
        "## 1.7\n",
        "\n",
        "Replace multiple spaces by single space, remove spaces from start and end of string:\n",
        "\n",
        "```\n",
        "'You will probably  need this     trick to   prepare data  for NLP tasks! '\n",
        "```\n",
        "\n",
        "should be converted to\n",
        "\n",
        "```\n",
        "'You will probably need this trick to prepare data for NLP tasks!'\n",
        "```\n"
      ],
      "metadata": {
        "id": "keI_L7dwwg-0"
      }
    },
    {
      "cell_type": "code",
      "source": [],
      "metadata": {
        "id": "bI60tcmrwn3T"
      },
      "execution_count": null,
      "outputs": []
    },
    {
      "cell_type": "code",
      "source": [
        "assert clean_spaces('a b') == 'a b'\n",
        "assert clean_spaces('a  b') == 'a b'\n",
        "assert clean_spaces('a   b') == 'a b'\n",
        "assert clean_spaces(' a   b ') == 'a b'\n",
        "assert clean_spaces('   a   b   ') == 'a b'\n",
        "assert clean_spaces(' a  bb   ccc    dddd     !@#$%      ') == 'a bb ccc dddd !@#$%'\n",
        "assert clean_spaces('') == ''\n",
        "assert clean_spaces('   ') == ''\n",
        "assert (\n",
        "    clean_spaces('You will probably  need this     trick to   prepare data  for NLP tasks! ')\n",
        "    ==\n",
        "    'You will probably need this trick to prepare data for NLP tasks!'\n",
        ")"
      ],
      "metadata": {
        "id": "PvCqlCDeojea"
      },
      "execution_count": null,
      "outputs": []
    },
    {
      "cell_type": "markdown",
      "source": [
        "## 1.8\n",
        "\n",
        "In this task, we want to consider the integer division of one number by another, as well as the remainder of the division.\n",
        "\n",
        "Print the decomposition of `a` divided by `b` as a string `a = b * q + r` or `a = b * q` where `r` stands for the remainder and `q` is the result of integer division of `a` by `b` (quotient).\n",
        "\n",
        "`a, b, q, r` - positive integers\n",
        "\n",
        "\n",
        "**Example:**\n",
        "\n",
        "1. *Input:* `89, 11`\n",
        "\n",
        "   *Output:* `89 = 8 * 11 + 1`\n",
        "2. *Input:* `88, 11`\n",
        "\n",
        "   *Output:* `88 = 8 * 11`"
      ],
      "metadata": {
        "id": "BvjktE-k5gUa"
      }
    },
    {
      "cell_type": "code",
      "source": [],
      "metadata": {
        "id": "tpqIUzBVwoY0"
      },
      "execution_count": null,
      "outputs": []
    },
    {
      "cell_type": "code",
      "source": [
        "assert decompose(89, 11) == '89 = 8 * 11 + 1'\n",
        "assert decompose(88, 11) == '88 = 8 * 11'"
      ],
      "metadata": {
        "id": "bNFYY8Gytd1U"
      },
      "execution_count": null,
      "outputs": []
    },
    {
      "cell_type": "markdown",
      "source": [
        "## 1.9\n",
        "\n",
        "$$f(x, y, z) = \\dfrac{3x^2 - 4\\exp(xy) + \\sqrt{3}\\ln z\\cdot xy^4}{\\left(\\sin y\\right)^{\\pi \\cdot \\log_{10}z}}$$\n",
        "\n",
        "You should implement the function above using `math` library.\n"
      ],
      "metadata": {
        "id": "Wlk3MOSE35aa"
      }
    },
    {
      "cell_type": "code",
      "source": [],
      "metadata": {
        "id": "kw77jeb_35aa"
      },
      "execution_count": null,
      "outputs": []
    },
    {
      "cell_type": "code",
      "source": [
        "# no testcases here\n",
        "# just be attentive\n",
        "# or write any by yourself"
      ],
      "metadata": {
        "id": "OXCmy8qrtT3m"
      },
      "execution_count": null,
      "outputs": []
    },
    {
      "cell_type": "markdown",
      "source": [
        "# Section 2. 2 point tasks"
      ],
      "metadata": {
        "id": "D99Y0Eky4N7I"
      }
    },
    {
      "cell_type": "markdown",
      "source": [
        "## 2.1 \n",
        "\n",
        "Here you're supposed to generate `k` random integer numbers from a given gap `[lower_bound, upper_bound]` without repetitions.\n"
      ],
      "metadata": {
        "id": "WkswDmsp4QrD"
      }
    },
    {
      "cell_type": "code",
      "source": [],
      "metadata": {
        "id": "KHzGyhBM4QrD"
      },
      "execution_count": null,
      "outputs": []
    },
    {
      "cell_type": "code",
      "source": [
        "result = generate_numbers(k=10, lower_bound=-10, upper_bound=10)\n",
        "assert any(-10 <= number <= 10 for number in result)\n",
        "assert len(result) == 10\n",
        "assert len(set(result)) == 10\n",
        "\n",
        "assert generate_numbers(k=0, lower_bound=-10, upper_bound=10) == []\n",
        "assert generate_numbers(k=1, lower_bound=7, upper_bound=7) == [7]\n",
        "assert set(generate_numbers(k=2, lower_bound=7, upper_bound=8)) == {7, 8}\n",
        "\n",
        "\n",
        "try:\n",
        "    generate_numbers(k=100, lower_bound=-10, upper_bound=10)\n",
        "except:\n",
        "    print('testcase passed')\n",
        "else:\n",
        "    print('testcase failed')\n",
        "    raise AssertionError\n",
        "\n",
        "\n",
        "try:\n",
        "    generate_numbers(k=10, lower_bound=10, upper_bound=-10)\n",
        "except:\n",
        "    print('testcase passed')\n",
        "else:\n",
        "    print('testcase failed')\n",
        "    raise AssertionError"
      ],
      "metadata": {
        "id": "zrJZaRXJqDel"
      },
      "execution_count": null,
      "outputs": []
    },
    {
      "cell_type": "markdown",
      "source": [
        "## 2.2\n",
        "\n",
        "This task consists of two parts. Here you have to work with the file `task2_2.txt`.\n",
        "\n",
        "The file contains multiline text. You should glue the lines together and separate each part from the other by a space."
      ],
      "metadata": {
        "id": "_s9dhUHW4Ui7"
      }
    },
    {
      "cell_type": "code",
      "source": [],
      "metadata": {
        "id": "5FGeZkX64Ui9"
      },
      "execution_count": null,
      "outputs": []
    },
    {
      "cell_type": "code",
      "source": [
        "# to run test save this string to `task2_2.txt`:\n",
        "# abc\n",
        "# d e f\n",
        "# ghi\n",
        "\n",
        "assert get_single_line(filename='task2_2.txt') == 'abc d e f ghi'"
      ],
      "metadata": {
        "id": "_O4tI9eCvDNk"
      },
      "execution_count": null,
      "outputs": []
    },
    {
      "cell_type": "markdown",
      "source": [
        "## 2.3\n",
        "\n",
        "Here you're provided with a string that consists of English letters and next symbols: `'.', ',', '-', '!', '?', ':', ';', '(', ')', '\"', ' '`.\n",
        "\n",
        "Your task is to extract all unique lowercase words without punctuation from this string.\n",
        "\n"
      ],
      "metadata": {
        "id": "8L42WvPq4Uqj"
      }
    },
    {
      "cell_type": "code",
      "source": [],
      "metadata": {
        "id": "5pZM9qPdwFd5"
      },
      "execution_count": null,
      "outputs": []
    },
    {
      "cell_type": "code",
      "source": [
        "assert set(get_words('a b c')) == {'a', 'b', 'c'}\n",
        "assert set(get_words('a b b c')) == {'a', 'b', 'c'}\n",
        "assert set(get_words('a B b c')) == {'a', 'b', 'c'}\n",
        "assert set(get_words('a B-b c!c.')) == {'a', 'b', 'c'}\n",
        "assert set(get_words('')) == {}\n",
        "\n",
        "assert set(get_words(\n",
        "    'Python is dynamically-typed and garbage-collected! '\n",
        "    'It supports multiple programming paradigms, including structured (particularly procedural), '\n",
        "    'object-oriented and functional programming. It is often described as a \"batteries included\" '\n",
        "    'language due to its comprehensive standard library?'\n",
        ")) == {\n",
        "    'functional', 'paradigms', 'oriented', 'due', 'as', 'and', 'batteries',\n",
        "    'language', 'garbage', 'including', 'structured', 'a', 'library',\n",
        "    'particularly', 'described', 'typed', 'collected', 'comprehensive', 'it',\n",
        "    'dynamically', 'multiple', 'to', 'included', 'python', 'often', 'supports',\n",
        "    'procedural', 'its', 'standard', 'programming', 'is', 'object'\n",
        "}"
      ],
      "metadata": {
        "id": "x3V6QAjm4Uqk"
      },
      "execution_count": null,
      "outputs": []
    },
    {
      "cell_type": "markdown",
      "source": [
        "## 2.4\n",
        "\n",
        "Imagine, you are a linguist who studies a new alien language. You have a lot of literature written in their language (list of strings). You need to understand their alphabet and how similar it is to English.\n",
        "\n",
        "You should print the alphabet as an alphabetically sorted list (you can use standard sorting methods)."
      ],
      "metadata": {
        "id": "_77IueNF4U29"
      }
    },
    {
      "cell_type": "code",
      "source": [],
      "metadata": {
        "id": "LWXISmD_zQrx"
      },
      "execution_count": null,
      "outputs": []
    },
    {
      "cell_type": "code",
      "source": [
        "assert get_alphabet(['a a b b', 'Baba Baba abab', 'Aboba a A']) == ' ABabo'\n",
        "assert get_alphabet(\n",
        "    [\n",
        "        'پایتون به صورت پویا تایپ شده و زباله جمع شده است!',\n",
        "        'این پشتیبانی از پارادایم های برنامه نویسی متعدد, از جمله ساختار (به خصوص رویه), برنامه نویسی شی گرا و کاربردی.',\n",
        "        'این است که اغلب به عنوان یک \"باتری شامل\" زبان با توجه به کتابخانه استاندارد جامع خود توصیف?',\n",
        "    ]\n",
        ") == ' !\"(),.?ابتجخدرزسشصعغفلمنهوپکگی'\n",
        "assert get_alphabet(\n",
        "    [\n",
        "        'פייתון מוקלד באופן דינמי ואוסף אשפה!',\n",
        "        'הוא תומך בפרדיגמות תכנות מרובות, כולל תכנות מובנה (פרוצדורלי במיוחד), מונחה עצמים ופונקציונלי.',\n",
        "        'זה מתואר לעתים קרובות כשפה\" סוללות כלולות \" בשל הספרייה הסטנדרטית המקיפה שלה?',\n",
        "    ]\n",
        ") == ' !\"(),.?אבגדהוזחטיךכלםמןנסעףפצקרשת'"
      ],
      "metadata": {
        "id": "CAod0JLxzdY9"
      },
      "execution_count": null,
      "outputs": []
    },
    {
      "cell_type": "markdown",
      "source": [
        "# Section 3. 3 point tasks"
      ],
      "metadata": {
        "id": "9KoBKZpM4g63"
      }
    },
    {
      "cell_type": "markdown",
      "source": [
        "## 3.1 \n",
        "\n",
        "Card numbers (like Mastercard or Visa) may have from 12 to 19 digits; usually they have 16. By the first several digits you can figure out the issuing network. [Here](https://en.wikipedia.org/wiki/Payment_card_number#Issuer_identification_number_(IIN)) you can check popular prefixes.\n",
        "\n",
        "Your task is to create a function to detect issuer (like Visa or Mastercard) by card number prefix. Your function should support next issuers:\n",
        "- American Express\n",
        "- JCB\n",
        "- Mir\n",
        "- MasterCard\n",
        "- Visa\n",
        "\n",
        "If issuer is not detected or there are multiple matches, function should return `None`."
      ],
      "metadata": {
        "id": "bTXwuu1o4g7A"
      }
    },
    {
      "cell_type": "code",
      "source": [],
      "metadata": {
        "id": "JDEOyYFd3B7-"
      },
      "execution_count": null,
      "outputs": []
    },
    {
      "cell_type": "code",
      "source": [
        "assert detect_card_issuer('340000000000000') == 'American Express'\n",
        "assert detect_card_issuer('3400') == 'American Express'\n",
        "assert detect_card_issuer('37') == 'American Express'\n",
        "\n",
        "assert detect_card_issuer('3529') == 'JCB'\n",
        "assert detect_card_issuer('2203') == 'Mir'\n",
        "assert detect_card_issuer('5123456789012345') == 'MasterCard'\n",
        "assert detect_card_issuer('4123456789012345') == 'Visa'\n",
        "\n",
        "assert detect_card_issuer('4') == 'Visa'\n",
        "assert detect_card_issuer('3') is None\n",
        "assert detect_card_issuer('5') is None\n",
        "assert detect_card_issuer('99') is None\n",
        "assert detect_card_issuer('9999') is None"
      ],
      "metadata": {
        "id": "KDnBMo3S4g7A"
      },
      "execution_count": null,
      "outputs": []
    }
  ]
}